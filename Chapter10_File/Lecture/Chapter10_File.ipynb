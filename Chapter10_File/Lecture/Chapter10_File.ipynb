{
 "cells": [
  {
   "cell_type": "markdown",
   "id": "da859938",
   "metadata": {},
   "source": [
    "## 파일은 왜 필요한가?\n",
    "\n",
    "- 우리가 쓰고 있는 변수들은 다 컴퓨터 부품 중 하나인 메모리에 저장됨.\n",
    "- 이 메모리는 프로그램을 종료하면 데이터가 모두 사라지게 됨.\n",
    "- 따라서 데이터를 오래 보관하고자 한다면 하드디스크와 같은 보조기억장치에 파일 형태로 저장해야함."
   ]
  },
  {
   "cell_type": "markdown",
   "id": "3403a6a4",
   "metadata": {},
   "source": [
    "## 메모장 준비\n",
    "- 'phone.txt' 파일 준비\n",
    "- 'phone.txt' 파일에 다음과 같이 작성\n",
    "```\n",
    "홍길동 010-1234-5678\n",
    "김철수 010-1234-5679\n",
    "김영희 010-1234-5680\n",
    "```\n"
   ]
  },
  {
   "cell_type": "markdown",
   "id": "b9c7c4dd",
   "metadata": {},
   "source": [
    "## 파일 열기와 닫기\n",
    "\n",
    "- 파일을 열 때는 open() 함수 사용\n",
    "- 파일을 닫을 때는 close() 함수 사용\n",
    "\n",
    "- 모드(책 참고)\n",
    "1. \"r\" : 읽기 모드, 파일을 처음부터 읽음.\n",
    "2. \"w\" : 쓰기 모드, 파일의 처음부터 씀, 파일이 없으면 생성, 파일이 존재하면 기존의 내용 지워짐.\n",
    "3. \"a\" : 추가 모드, 파일의 끝에 이어서 내용을 씀, 파일이 없으면 생성됨.\n",
    "4. \"r+\" : 읽기와 쓰기 모드, 파일에 읽고 쓸 수 있는 모드임. 모드 번경 시 seek() 함수 호출되어야함."
   ]
  },
  {
   "cell_type": "markdown",
   "id": "29cdc132",
   "metadata": {},
   "source": [
    "## 파일에서 전체 데이터 읽기"
   ]
  },
  {
   "cell_type": "code",
   "execution_count": null,
   "id": "15579a39",
   "metadata": {},
   "outputs": [
    {
     "name": "stdout",
     "output_type": "stream",
     "text": [
      "홍길동 010-1234-5678\n",
      "김철수 010-1234-5679\n",
      "김영희 010-1234-5680\n",
      "\n"
     ]
    }
   ],
   "source": [
    "infile = open(\"phones.txt\", \"r\")\n",
    "# read() 함수는 파일에서 텍스트 전체를 읽음.\n",
    "lines = infile.read()\n",
    "print(lines)\n",
    "infile.close()"
   ]
  },
  {
   "cell_type": "code",
   "execution_count": 1,
   "id": "7f21cdfd",
   "metadata": {},
   "outputs": [
    {
     "name": "stdout",
     "output_type": "stream",
     "text": [
      "['홍길동 010-1234-5678\\n', '김철수 010-1234-5679\\n', '김영희 010-1234-5680\\n']\n"
     ]
    }
   ],
   "source": [
    "infile = open(\"phones.txt\", \"r\")\n",
    "# readlines() 함수로 읽으면 파일에 저장된 각각의 줄이 리스트 안에 저장됨.\n",
    "lines = infile.readlines()\n",
    "print(lines)\n",
    "infile.close()"
   ]
  },
  {
   "cell_type": "markdown",
   "id": "f3c64bf2",
   "metadata": {},
   "source": [
    "- 마지막에 붙은 '\\n'은 우리가 텍스트 파일을 작성할 때 엔터키를 눌러서 입력된 줄과 줄을 분리하는 줄바꿈 기호"
   ]
  },
  {
   "cell_type": "markdown",
   "id": "2099365a",
   "metadata": {},
   "source": [
    "## 파일에서 한 줄씩 읽어오기"
   ]
  },
  {
   "cell_type": "code",
   "execution_count": 3,
   "id": "a1cb15d3",
   "metadata": {},
   "outputs": [
    {
     "name": "stdout",
     "output_type": "stream",
     "text": [
      "홍길동 010-1234-5678\n",
      "\n",
      "김철수 010-1234-5679\n",
      "\n"
     ]
    }
   ],
   "source": [
    "infile = open(\"phones.txt\", \"r\")\n",
    "\n",
    "line1 = infile.readline()\n",
    "print(line1)\n",
    "\n",
    "line2 = infile.readline()\n",
    "print(line2)\n",
    "\n",
    "infile.close()"
   ]
  },
  {
   "cell_type": "code",
   "execution_count": 4,
   "id": "fad9f66b",
   "metadata": {},
   "outputs": [
    {
     "name": "stdout",
     "output_type": "stream",
     "text": [
      "홍길동 010-1234-5678\n",
      "김철수 010-1234-5679\n",
      "김영희 010-1234-5680\n"
     ]
    }
   ],
   "source": [
    "infile = open(\"phones.txt\", \"r\")\n",
    "# rstrip() 함수는 각 줄의 맨 뒤에 있는 줄바꿈 기호 '\\n'를 제거함\n",
    "line = infile.readline().rstrip()\n",
    "while line != \"\" :\n",
    "    print(line)\n",
    "    line = infile.readline().rstrip()\n",
    "\n",
    "infile.close()"
   ]
  },
  {
   "cell_type": "code",
   "execution_count": null,
   "id": "f8de4b1f",
   "metadata": {},
   "outputs": [],
   "source": [
    "infile = open(\"Chapter10_File/phones.txt\", \"r\")\n",
    "\n",
    "for line in infile :\n",
    "    line = line.rstrip()\n",
    "    print(line)\n",
    "\n",
    "infile.close()"
   ]
  },
  {
   "cell_type": "markdown",
   "id": "c1912251",
   "metadata": {},
   "source": [
    "## 파일에 데이터 쓰기"
   ]
  },
  {
   "cell_type": "code",
   "execution_count": 5,
   "id": "d63cc173",
   "metadata": {},
   "outputs": [],
   "source": [
    "outfile = open(\"phones1.txt\", \"w\")\n",
    "\n",
    "outfile.write(\"전우치 010-1234-5678\\n\")\n",
    "outfile.write(\"홍길동 010-1234-5679\\n\")\n",
    "outfile.write(\"김서방 010-1234-5680\\n\")\n",
    "\n",
    "outfile.close()"
   ]
  },
  {
   "cell_type": "code",
   "execution_count": 6,
   "id": "16373b28",
   "metadata": {},
   "outputs": [],
   "source": [
    "outfile = open(\"phones1.txt\", \"a\")\n",
    "\n",
    "outfile.write(\"강감찬 010-1234-5681\\n\")\n",
    "outfile.write(\"김유신 010-1234-5682\\n\")\n",
    "outfile.write(\"정약용 010-1234-5683\\n\")\n",
    "\n",
    "outfile.close()"
   ]
  },
  {
   "cell_type": "markdown",
   "id": "baa04193",
   "metadata": {},
   "source": [
    "## 파일에서 단어 단위로 읽어오기"
   ]
  },
  {
   "cell_type": "code",
   "execution_count": null,
   "id": "e19f4feb",
   "metadata": {},
   "outputs": [
    {
     "data": {
      "text/plain": [
       "[\"All's\", 'well', 'that', 'ends', 'well']"
      ]
     },
     "execution_count": 7,
     "metadata": {},
     "output_type": "execute_result"
    }
   ],
   "source": [
    "# 공백을 기준으로 단어를 나눠 리스트에 저장한다.\n",
    "a = \"All's well that ends well\"\n",
    "a.split()"
   ]
  },
  {
   "cell_type": "markdown",
   "id": "f032d590",
   "metadata": {},
   "source": [
    "### 메모장 준비\n",
    "- 'proverbs.txt' 파일 준비\n",
    "- 'proverbs.txt' 파일에 다음과 같이 작성\n",
    "```\n",
    "All's well that ends well.\n",
    "Bad news travels fast.\n",
    "Well begun is half done.\n",
    "Birds of a feature flock together.\n",
    "```"
   ]
  },
  {
   "cell_type": "code",
   "execution_count": null,
   "id": "7055d683",
   "metadata": {},
   "outputs": [
    {
     "name": "stdout",
     "output_type": "stream",
     "text": [
      "All's\n",
      "well\n",
      "that\n",
      "ends\n",
      "well.\n",
      "Bad\n",
      "news\n",
      "travels\n",
      "fast.\n",
      "Well\n",
      "begun\n",
      "is\n",
      "half\n",
      "done.\n",
      "Birds\n",
      "of\n",
      "a\n",
      "feature\n",
      "flock\n",
      "together.\n"
     ]
    }
   ],
   "source": [
    "infile = open(\"proverbs.txt\", \"r\")\n",
    "# 전체 파일 중 한 줄 한 줄 for문을 이용해 읽기\n",
    "for line in infile :\n",
    "    # 한 줄 끝에 있는 '\\n' 제거\n",
    "    line = line.rstrip()\n",
    "    # 영어 문장을 단어 단위로 리스트에 저장\n",
    "    word_list = line.split()\n",
    "    # 저장된 단어 리스트에 한 단어씩 출력\n",
    "    for word in word_list :\n",
    "        print(word)\n",
    "\n",
    "infile.close()"
   ]
  },
  {
   "cell_type": "markdown",
   "id": "98044e1e",
   "metadata": {},
   "source": [
    "## CSV 파일 사용해보기"
   ]
  },
  {
   "cell_type": "code",
   "execution_count": 13,
   "id": "56de2507",
   "metadata": {},
   "outputs": [
    {
     "name": "stdout",
     "output_type": "stream",
     "text": [
      "['팀버너스리\\t2016\\t영국']\n",
      "['리처드 해밍\\t1968\\t미국']\n",
      "['에츠허르 데이크스트라\\t1972\\t네덜란드']\n",
      "['더글라스 엥겔바트\\t1997\\t미국']\n"
     ]
    }
   ],
   "source": [
    "import csv\n",
    "f = open('input.csv', 'r', encoding='euc-kr')\n",
    "data = csv.reader(f)\n",
    "\n",
    "for line in data :\n",
    "    print(line)\n",
    "\n",
    "f.close()"
   ]
  }
 ],
 "metadata": {
  "kernelspec": {
   "display_name": "3.11.11",
   "language": "python",
   "name": "python3"
  },
  "language_info": {
   "codemirror_mode": {
    "name": "ipython",
    "version": 3
   },
   "file_extension": ".py",
   "mimetype": "text/x-python",
   "name": "python",
   "nbconvert_exporter": "python",
   "pygments_lexer": "ipython3",
   "version": "3.11.11"
  }
 },
 "nbformat": 4,
 "nbformat_minor": 5
}
