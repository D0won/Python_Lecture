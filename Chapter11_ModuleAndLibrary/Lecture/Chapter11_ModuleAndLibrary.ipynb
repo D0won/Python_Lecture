{
 "cells": [
  {
   "cell_type": "markdown",
   "id": "aa09af60",
   "metadata": {},
   "source": [
    "# 모듈(module)\n",
    "\n",
    "- 사전적으로는 '어떤 것의 일부' 또는 '부품'을 뜻함.\n",
    "- 모듈은 기능별 단위로 분할한 것으로 파이썬에서는 데이터, 함수, 클래스 등을 모아서 파일로 저장해 놓은 것임."
   ]
  },
  {
   "cell_type": "code",
   "execution_count": 1,
   "id": "ce18feb4",
   "metadata": {},
   "outputs": [
    {
     "name": "stdout",
     "output_type": "stream",
     "text": [
      "15\n"
     ]
    }
   ],
   "source": [
    "# import를 이용하여 모듈을 가져옴\n",
    "import math\n",
    "# gcd() 함수를 이용하여 최대공약수를 구함\n",
    "result = math.gcd(255, 300)\n",
    "print(result)"
   ]
  },
  {
   "cell_type": "markdown",
   "id": "2f4cb8a2",
   "metadata": {},
   "source": [
    "## import\n",
    "\n",
    "- import 키워드를 활용하여 외부의 파일에서 작성한 함수를 현재 코드에서 사용할 수 있게 만들어줌.\n",
    "- 'import 모듈1, 모듈2'와 같은 방식으로 여러 개의 모듈을 가져와서 사용 가능"
   ]
  },
  {
   "cell_type": "code",
   "execution_count": 2,
   "id": "252c59fa",
   "metadata": {},
   "outputs": [
    {
     "name": "stdout",
     "output_type": "stream",
     "text": [
      "15\n"
     ]
    }
   ],
   "source": [
    "# 모듈 이름 없이 함수 이름만 쓰고 싶은 경우 from 키워드를 이용\n",
    "from math import *\n",
    "result = gcd(255, 300)\n",
    "print(result)"
   ]
  },
  {
   "cell_type": "markdown",
   "id": "6cfe8cb7",
   "metadata": {},
   "source": [
    "## from\n",
    "- from 키워드를 이용하여 모듈 이름을 붙이지 않고도 함수의 이름만으로도 해당 모듈의 함수 사용 가능\n",
    "- '*' 기호는 '모든 것'을 의미\n",
    "- math 모듈의 모든 것을 가져와 모듈의 이름을 붙이지 않고 함수 사용 가능"
   ]
  },
  {
   "cell_type": "markdown",
   "id": "fdf44d68",
   "metadata": {},
   "source": [
    "## tkinter\n",
    "- tkinter는 파이썬을 설치할 때 기본으로 포함되는 그래픽 모듈\n",
    "- 사용자 인터페이스(GUI) : 사용자에게 친화적인 인터페이스로 아이콘을 활용하여 창 또는 대화상자를 띄우는 걸 예시로 들 수 있다.\n",
    "- tkinter를 활용해 사용자 인터페이스를 구현할 수 있다.\n"
   ]
  },
  {
   "cell_type": "markdown",
   "id": "f3f49b92",
   "metadata": {},
   "source": [
    "## 위젯(widget)\n",
    "- 사용자와의 상호작용하는 인터페이스를 작성하기 위하여 tkinter에서 제공하는 버튼, 텍스트 상자와 같은 조그마한 도구들을 위젯이라고 한다.\n",
    "- tkinter는 다양한 위젯을 제공한다.(p.348 참고)\n",
    "- 위젯은 크게 단순 위젯과 컨테이너 위젯 두 가지로 나눌 수 있다.\n",
    "    - 단순 위젯은 말 그대로 단순한 위젯으로 Button, Canvas 등이 여기에 속한다.\n",
    "    - 컨테이너 위젯이란 다른 위젯을 안에 포함할 수 있는 위젯으로 Frame, Toplevel 등이 여기에 속한다."
   ]
  },
  {
   "cell_type": "code",
   "execution_count": null,
   "id": "c8b4ae04",
   "metadata": {},
   "outputs": [],
   "source": [
    "# 'tkinter' 모듈에 있는 모든 함수를 사용할 수 있게 가져옴\n",
    "from tkinter import *\n",
    "\n",
    "# TK()는 가장 기본이 되는 윈도우를 반환\n",
    "window = Tk()\n",
    "# 이 부분에 화면을 구성할 요소들을 작성함.\n",
    "\n",
    "# 이벤트 루프라는 것을 발생하는 함수.\n",
    "# 이벤트 루프란 윈도우를 닫을 때까지 윈도우(창)에서 발생하는 마우스 클릭, 키보드 누르기 등 여러가지 이벤트가 감지되어 처리할 수 있도록 하는 함수\n",
    "window.mainloop()"
   ]
  },
  {
   "cell_type": "markdown",
   "id": "3cd65e3f",
   "metadata": {},
   "source": [
    "## 버튼"
   ]
  },
  {
   "cell_type": "code",
   "execution_count": null,
   "id": "a89ac588",
   "metadata": {},
   "outputs": [],
   "source": [
    "from tkinter import *\n",
    "\n",
    "window = Tk()\n",
    "\n",
    "# window에 버튼이 올라가 '클릭하세요'라는 문구가 나타남.\n",
    "button = Button(window, text = '클릭하세요!')\n",
    "\n",
    "# pack()은 위젯을 최대한 압축하여 윈도우에 표시한다는 의미(pack() 함수를 호출하지 않으면 화면에 버튼이 나타나지 않음)\n",
    "button.pack()\n",
    "window.mainloop()"
   ]
  },
  {
   "cell_type": "markdown",
   "id": "9c6a5bfe",
   "metadata": {},
   "source": [
    "## 위젯 배치 관리자"
   ]
  },
  {
   "cell_type": "code",
   "execution_count": null,
   "id": "78d64cf0",
   "metadata": {},
   "outputs": [],
   "source": [
    "# 파이썬에서는 위젯 배치 관리자를 이용하여 자동으로 컨테이너 안에 있는 위젯의 크기와 위치를 자동으로 관리해줌\n",
    "from tkinter import *\n",
    "window = Tk()\n",
    "\n",
    "# 윈도우에 텍스트를 표시하려면 tkinter의 레이블 위젯이 필요함\n",
    "w = Label(window, text = '박스 #1', bg = \"red\", fg = 'white')\n",
    "w.place(x=0, y=0)\n",
    "w = Label(window, text = \"박스 #2\", bg = \"green\", fg = \"black\")\n",
    "w.place(x=20, y=20)\n",
    "w = Label(window, text = \"박스 #3\", bg = \"blue\", fg = \"white\")\n",
    "w.place(x=40, y=40)\n",
    "\n",
    "window.mainloop()"
   ]
  },
  {
   "cell_type": "markdown",
   "id": "af65db10",
   "metadata": {},
   "source": [
    "## 격자 배치 관리자"
   ]
  },
  {
   "cell_type": "code",
   "execution_count": 6,
   "id": "d6e229ab",
   "metadata": {},
   "outputs": [
    {
     "name": "stderr",
     "output_type": "stream",
     "text": [
      "2025-09-12 21:50:07.922 Python[16096:66890] TSM AdjustCapsLockLEDForKeyTransitionHandling - _ISSetPhysicalKeyboardCapsLockLED Inhibit\n"
     ]
    }
   ],
   "source": [
    "# 격자 배치 관리자는 버튼, 레이블과 같은 위젯을 표 형태로 배치함\n",
    "# 위젯이 배치될 행(가로줄)과 열(세로줄)을 지정하면 해당 위치의 셀에 위젯이 채워짐\n",
    "from tkinter import *\n",
    "\n",
    "window = Tk()\n",
    "\n",
    "l1 = Label(window, text = \"화씨\")\n",
    "l2 = Label(window, text = \"섭씨\")\n",
    "l1.grid(row=0, column=0)\n",
    "l2.grid(row=1, column=1)\n",
    "\n",
    "# 윈도우에서 사용자로부터 텍스트를 입력받기 위해서는 엔트리 위젯이 필요함.\n",
    "# 엔트리 위젯이 올라갈 곳은 window이므로 Entry(window)로 매개변수 전달\n",
    "e1 = Entry(window)\n",
    "e2 = Entry(window)\n",
    "e1.grid(row = 0, column= 1)\n",
    "e2.grid(row = 1, column= 1)\n",
    "\n",
    "b1 = Button(window, text = \"화씨->섭씨\")\n",
    "b2 = Button(window, text = \"섭씨->화씨\")\n",
    "b1.grid(row=2, column=0)\n",
    "b2.grid(row=2, column=1)\n",
    "\n",
    "window.mainloop()"
   ]
  },
  {
   "cell_type": "markdown",
   "id": "83ba225b",
   "metadata": {},
   "source": [
    "## 버튼 이벤트 처리\n",
    "- 버튼 클릭 시 이벤트가 나타나도록 특별한 처리를 해주는 것이 바로 '이벤트 처리'"
   ]
  },
  {
   "cell_type": "markdown",
   "id": "903612dd",
   "metadata": {},
   "source": [
    "### 버튼 클릭시 \"안녕하세요?\" 라는 문구가 출력창에 출력되는 프로그램 작성"
   ]
  },
  {
   "cell_type": "code",
   "execution_count": null,
   "id": "e686447a",
   "metadata": {},
   "outputs": [
    {
     "name": "stderr",
     "output_type": "stream",
     "text": [
      "2025-09-12 21:44:30.579 Python[16096:66890] error messaging the mach port for IMKCFRunLoopWakeUpReliable\n"
     ]
    },
    {
     "name": "stdout",
     "output_type": "stream",
     "text": [
      "안녕하세요?\n",
      "안녕하세요?\n",
      "안녕하세요?\n",
      "안녕하세요?\n"
     ]
    }
   ],
   "source": [
    "from tkinter import *\n",
    "\n",
    "def process() :\n",
    "    print(\"안녕하세요?\")\n",
    "\n",
    "window = Tk()\n",
    "\n",
    "# 버튼 클릭시 \"안녕하세요?\" 라는 문구가 출력창에 출력됨.\n",
    "button = Button(window, text = \"클릭하세요!\", command=process)\n",
    "button.pack()\n",
    "\n",
    "window.mainloop()"
   ]
  },
  {
   "cell_type": "markdown",
   "id": "e595c555",
   "metadata": {},
   "source": [
    "### '화씨 -> 섭씨' 버튼을 클릭하면 섭씨칸에 '100'이 보여지는 프로그램 작성"
   ]
  },
  {
   "cell_type": "code",
   "execution_count": 7,
   "id": "2eb697c4",
   "metadata": {},
   "outputs": [],
   "source": [
    "from tkinter import *\n",
    "\n",
    "def process() :\n",
    "    e2.insert(0, \"100\")\n",
    "\n",
    "window = Tk()\n",
    "\n",
    "l1 = Label(window, text=\"화씨\")\n",
    "l2 = Label(window, text=\"섭씨\")\n",
    "l1.grid(row=0, column=0)\n",
    "l2.grid(row=1, column=0)\n",
    "\n",
    "e1 = Entry(window)\n",
    "e2 = Entry(window)\n",
    "e1.grid(row = 0, column= 1)\n",
    "e2.grid(row = 1, column= 1)\n",
    "\n",
    "b1 = Button(window, text = \"화씨->섭씨\", command=process)\n",
    "b2 = Button(window, text = \"섭씨->화씨\")\n",
    "b1.grid(row=2, column= 0)\n",
    "b2.grid(row=2, column=1)\n",
    "\n",
    "window.mainloop()"
   ]
  },
  {
   "cell_type": "markdown",
   "id": "6803c1f0",
   "metadata": {},
   "source": [
    "### '화씨->섭씨' 버튼 클릭 시 화씨 엔트리에 입력된 화씨온도가 섭씨온도로 계산되어 섭씨 엔트리에 출력되도록 하는 프로그램 작성 "
   ]
  },
  {
   "cell_type": "code",
   "execution_count": 8,
   "id": "6d4c411b",
   "metadata": {},
   "outputs": [],
   "source": [
    "from tkinter import *\n",
    "\n",
    "def process() :\n",
    "    # e1 엔트리에 적힌 사용자의 입력값을 get() 함수로 받음\n",
    "    temperature = float(e1.get())\n",
    "    mytemp = (temperature-32)*5/9\n",
    "    e2.insert(0, str(mytemp))\n",
    "\n",
    "window =Tk()\n",
    "\n",
    "l1 = Label(window, text = \"화씨\")\n",
    "l2 = Label(window, text = \"섭씨\")\n",
    "l1.grid(row = 0, column=0)\n",
    "l2.grid(row = 1, column=0)\n",
    "\n",
    "e1 = Entry(window)\n",
    "e2 = Entry(window)\n",
    "e1.grid(row = 0, column= 1)\n",
    "e2.grid(row = 1, column= 1)\n",
    "\n",
    "b1 = Button(window, text = \"화씨->섭씨\", command=process)\n",
    "b2 = Button(window, text = \"섭씨->화씨\")\n",
    "b1.grid(row=2, column=0)\n",
    "b2.grid(row=2, column=1)\n",
    "\n",
    "window.mainloop()"
   ]
  }
 ],
 "metadata": {
  "kernelspec": {
   "display_name": "Python 3",
   "language": "python",
   "name": "python3"
  },
  "language_info": {
   "codemirror_mode": {
    "name": "ipython",
    "version": 3
   },
   "file_extension": ".py",
   "mimetype": "text/x-python",
   "name": "python",
   "nbconvert_exporter": "python",
   "pygments_lexer": "ipython3",
   "version": "3.13.7"
  }
 },
 "nbformat": 4,
 "nbformat_minor": 5
}
