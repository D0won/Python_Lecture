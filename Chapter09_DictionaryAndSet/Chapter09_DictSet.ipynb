{
 "cells": [
  {
   "cell_type": "markdown",
   "id": "af4e622b",
   "metadata": {},
   "source": [
    "# 8/2일 수업"
   ]
  },
  {
   "cell_type": "markdown",
   "id": "1272beeb",
   "metadata": {},
   "source": [
    "# 딕셔너리"
   ]
  },
  {
   "cell_type": "markdown",
   "id": "0731665a",
   "metadata": {},
   "source": [
    "## 딕셔너리(dictionary)란?\n",
    "\n",
    "딕셔너리는 파이썬의 자료형 중 하나로, 데이터를 키(key)와 값(value) 의 쌍으로 저장하는 구조입니다.  \n",
    "쉽게 말해, 사전(dictionary)처럼 특정 키를 통해 해당 값을 빠르게 찾을 수 있는 자료형입니다.\n",
    "\n",
    "---\n",
    "\n",
    "#### 딕셔너리의 특징\n",
    "1. **키와 값의 쌍으로 구성**  \n",
    "    - 각 키는 고유하며, 중복될 수 없습니다.  \n",
    "    - 값은 중복될 수 있습니다.\n",
    "    - 예: `{\"이름\": \"홍길동\", \"나이\": 25}`\n",
    "\n",
    "2. **변경 가능(mutable)**  \n",
    "    - 딕셔너리는 생성 후에도 키-값 쌍을 추가, 수정, 삭제할 수 있습니다.\n",
    "\n",
    "3. **순서 없음**  \n",
    "    - 파이썬 3.7부터는 딕셔너리가 입력된 순서를 유지하지만, 기본적으로는 순서가 중요한 자료형이 아닙니다.\n",
    "\n",
    "4. **빠른 검색**  \n",
    "    - 키를 통해 값을 빠르게 검색할 수 있습니다.\n",
    "\n",
    "---\n",
    "\n",
    "#### 딕셔너리의 활용 예시\n",
    "1. **영한 사전**  \n",
    "    - 영어 단어(키)와 그 뜻(값)을 저장  \n",
    "      ```python\n",
    "      eng_kor_dict = {\"apple\": \"사과\", \"banana\": \"바나나\", \"cherry\": \"체리\"}\n",
    "      print(eng_kor_dict[\"apple\"])  # 출력: 사과\n",
    "      ```\n",
    "\n",
    "2. **개인 정보 저장**  \n",
    "    - 한 사람의 정보를 딕셔너리로 표현  \n",
    "      ```python\n",
    "      person_info = {\"이름\": \"이도원\", \"나이\": \"20대\", \"사는 곳\": \"부산\"}\n",
    "      print(person_info[\"이름\"])  # 출력: 이도원\n",
    "      ```\n",
    "\n",
    "3. **전화번호부**  \n",
    "    - 이름(키)과 전화번호(값)을 저장  \n",
    "      ```python\n",
    "      phone_book = {\"홍길동\": \"010-1234-5678\", \"강감찬\": \"010-9876-5432\"}\n",
    "      print(phone_book[\"강감찬\"])  # 출력: 010-9876-5432\n",
    "      ```\n",
    "\n",
    "---\n",
    "\n",
    "#### 딕셔너리의 장점\n",
    "- 데이터를 구조화하여 저장할 수 있음.\n",
    "- 키를 통해 값을 빠르게 검색 가능.\n",
    "- 다양한 데이터 저장 및 관리에 유용.\n",
    "\n",
    "딕셔너리는 파이썬에서 매우 강력하고 유용한 자료형으로, 데이터를 효율적으로 관리하고 처리하는 데 자주 사용됩니다."
   ]
  },
  {
   "cell_type": "markdown",
   "id": "341d1896",
   "metadata": {},
   "source": [
    "### 딕셔너리 사용법 -> 주소록을 만들어보자"
   ]
  },
  {
   "cell_type": "markdown",
   "id": "66c5d2e0",
   "metadata": {},
   "source": [
    "- 전화번호부에 키에는 이름을 넣고 값에는 전화번호를 넣어서 전화번호부를 생성"
   ]
  },
  {
   "cell_type": "code",
   "execution_count": null,
   "id": "9f27dcea",
   "metadata": {},
   "outputs": [
    {
     "name": "stdout",
     "output_type": "stream",
     "text": [
      "{'홍길동': '010-1234-5678'}\n"
     ]
    }
   ],
   "source": [
    "# 딕셔너리 생성과 추가\n",
    "phone_book = {} # 빈 딕셔너리 생성 -> 중괄호를 통해서 생성\n",
    "phone_book['홍길동'] = \"010-1234-5678\" # 홍길동 이름과 홍길동의 전화번호를 빈 딕셔너리에 추가\n",
    "print(phone_book)"
   ]
  },
  {
   "cell_type": "code",
   "execution_count": null,
   "id": "9f9913aa",
   "metadata": {},
   "outputs": [
    {
     "name": "stdout",
     "output_type": "stream",
     "text": [
      "{'홍길동': '010-1234-5678'}\n"
     ]
    }
   ],
   "source": [
    "# 딕셔너리 생성하면서 동시에 초기화(초기화란 빈 딕셔너리에 키-값 쌍들을 처음으로 채워넣는다)\n",
    "phone_book = {\"홍길동\" : \"010-1234-5678\"}\n",
    "print(phone_book)"
   ]
  },
  {
   "cell_type": "code",
   "execution_count": null,
   "id": "6b124bc1",
   "metadata": {},
   "outputs": [
    {
     "name": "stdout",
     "output_type": "stream",
     "text": [
      "{'홍길동': '010-0000-0000', '강감찬': '010-1234-5678', '이순신': '010-1111-1222'}\n"
     ]
    }
   ],
   "source": [
    "# 딕셔너리에 항목을 추가하는 법\n",
    "phone_book['강감찬'] = '010-1234-1234'\n",
    "phone_book['이순신'] = '010-1111-1222'\n",
    "print(phone_book)"
   ]
  },
  {
   "cell_type": "code",
   "execution_count": null,
   "id": "f8ea5faa",
   "metadata": {},
   "outputs": [
    {
     "name": "stdout",
     "output_type": "stream",
     "text": [
      "010-1234-5678\n"
     ]
    }
   ],
   "source": [
    "# 딕셔너리 탐색 ->딕셔너리에서 가장 중요한 과정, 영한 사전에서 모르는 단어를 찾듯이 딕셔너리에서는 키로 값을 찾을 수 있다.\n",
    "print(phone_book['강감찬'])"
   ]
  },
  {
   "cell_type": "code",
   "execution_count": null,
   "id": "6dafb2ee",
   "metadata": {},
   "outputs": [],
   "source": [
    "# 만약에 딕셔너리의 키를 모르는 경우에는 다음과 같은 함수를 활용하여 전체 키를 알 수 있음\n",
    "print(phone_book.keys())"
   ]
  },
  {
   "cell_type": "code",
   "execution_count": null,
   "id": "f1e03f38",
   "metadata": {},
   "outputs": [],
   "source": [
    "# 딕셔너리에 사용되는 모든 값을 알고 싶다면 다음과 같은 함수를 활용하여 전체 값을 알 수 있음\n",
    "print(phone_book.values())"
   ]
  },
  {
   "cell_type": "code",
   "execution_count": null,
   "id": "a4f6cf47",
   "metadata": {},
   "outputs": [
    {
     "name": "stdout",
     "output_type": "stream",
     "text": [
      "010-1212-1212\n"
     ]
    }
   ],
   "source": [
    "# 딕셔너리 수정 -> 만약에 강감찬이 폰번호를 바꿧다? 그럼 수정을 해야함\n",
    "phone_book['강감찬'] = '010-1234-3333'\n",
    "print(phone_book['강감찬'])"
   ]
  },
  {
   "cell_type": "code",
   "execution_count": null,
   "id": "da9224b5",
   "metadata": {},
   "outputs": [
    {
     "data": {
      "text/plain": [
       "'010-1212-1212'"
      ]
     },
     "execution_count": 29,
     "metadata": {},
     "output_type": "execute_result"
    }
   ],
   "source": [
    "# 딕셔너리 지정 항목 삭제 -> 지정된 딕셔너리 요소를 삭제하고 삭제한 요소의 값을 출력함\n",
    "phone_book.pop('강감찬')"
   ]
  },
  {
   "cell_type": "code",
   "execution_count": null,
   "id": "ed78849e",
   "metadata": {},
   "outputs": [
    {
     "name": "stdout",
     "output_type": "stream",
     "text": [
      "{'홍길동': '010-0000-0000', '이순신': '010-1111-1222'}\n"
     ]
    }
   ],
   "source": [
    "print(phone_book)"
   ]
  },
  {
   "cell_type": "code",
   "execution_count": null,
   "id": "3366b4e7",
   "metadata": {},
   "outputs": [],
   "source": [
    "# 딕셔너리 항목 전체 삭제\n",
    "phone_book.clear()"
   ]
  },
  {
   "cell_type": "code",
   "execution_count": null,
   "id": "93388b69",
   "metadata": {},
   "outputs": [
    {
     "name": "stdout",
     "output_type": "stream",
     "text": [
      "{}\n"
     ]
    }
   ],
   "source": [
    "print(phone_book)"
   ]
  },
  {
   "cell_type": "markdown",
   "id": "0580d069",
   "metadata": {},
   "source": [
    "# 집합\n",
    "- **파이썬의 자료형 중 하나**  \n",
    "- **중복을 허용하지 않음**  \n",
    "- **순서가 없음**  \n",
    "- **수학의 집합 개념과 유사**  -> **중학생 대상이기에 다루지 않을 예정**\n",
    "- **집합 연산 지원** (합집합, 교집합, 차집합 등) -> **중학생 대상이기에 다루지 않을 예정**\n",
    "\n",
    "---\n",
    "\n",
    "#### 집합의 특징\n",
    "1. **중복 제거**  \n",
    "    - 중복된 데이터를 자동으로 제거.  \n",
    "      예: `{1, 2, 2, 3}` → `{1, 2, 3}`\n",
    "\n",
    "2. **순서 없음**  \n",
    "    - 데이터의 순서가 중요하지 않음.  \n",
    "      예: `{1, 2, 3}`과 `{3, 2, 1}`은 동일.\n",
    "\n",
    "3. **변경 가능(mutable)**  \n",
    "    - 집합에 원소를 추가하거나 삭제 가능.\n",
    "\n",
    "4. **빠른 연산**  -> **중학생 대상이기에 다루지 않을 예정**\n",
    "    - 합집합, 교집합, 차집합 등의 연산을 효율적으로 수행. \n",
    "\n",
    "---\n",
    "\n",
    "#### 집합의 활용 예시\n",
    "1. **중복 제거**  \n",
    "    - 리스트나 튜플에서 중복된 데이터를 제거.  \n",
    "      ```python\n",
    "      data = [1, 2, 2, 3, 4, 4]\n",
    "      unique_data = set(data)\n",
    "      print(unique_data)  # 출력: {1, 2, 3, 4}\n",
    "      ```\n",
    "\n",
    "2. **교집합, 합집합, 차집합 연산**  -> **중학생 대상이기에 다루지 않을 예정**\n",
    "    - 두 데이터 집합 간의 관계를 계산.  \n",
    "      ```python\n",
    "      set1 = {1, 2, 3}\n",
    "      set2 = {3, 4, 5}\n",
    "      print(set1 & set2)  # 교집합: {3}\n",
    "      print(set1 | set2)  # 합집합: {1, 2, 3, 4, 5}\n",
    "      print(set1 - set2)  # 차집합: {1, 2}\n",
    "      ```\n",
    "\n",
    "3. **데이터 필터링**  \n",
    "    - 특정 조건에 맞는 데이터를 빠르게 필터링.  \n",
    "      ```python\n",
    "      allowed_values = {1, 2, 3}\n",
    "      data = [1, 2, 4, 5]\n",
    "      filtered_data = [x for x in data if x in allowed_values]\n",
    "      print(filtered_data)  # 출력: [1, 2]\n",
    "      ```\n",
    "\n",
    "---\n",
    "\n",
    "#### 집합의 장점\n",
    "- 중복된 데이터를 자동으로 제거하여 데이터 정리.\n",
    "- 수학적 집합 연산을 간단히 수행 가능.\n",
    "- 데이터 검색 및 필터링에 유용.\n",
    "\n",
    "---\n",
    "\n",
    "#### 집합의 단점\n",
    "- 순서가 없으므로 인덱싱이 불가능.\n",
    "- 변경 불가능한 자료형(예: 리스트, 딕셔너리)은 집합의 원소로 사용할 수 없음."
   ]
  },
  {
   "cell_type": "markdown",
   "id": "1e75f108",
   "metadata": {},
   "source": [
    "### 집합 사용법"
   ]
  },
  {
   "cell_type": "code",
   "execution_count": null,
   "id": "0dd17eb6",
   "metadata": {},
   "outputs": [],
   "source": [
    "# 집합 생성\n",
    "s = set()\n",
    "# 집합 초기화(빈 자료 안에 처음 데이터를 넣는다.)\n",
    "s = {1, 2, 5}\n",
    "\n",
    "print(s)"
   ]
  },
  {
   "cell_type": "code",
   "execution_count": null,
   "id": "e3687206",
   "metadata": {},
   "outputs": [],
   "source": [
    "# 집합 안의 또다른 원소를 추가\n",
    "s.add(10)\n",
    "print(s)"
   ]
  },
  {
   "cell_type": "code",
   "execution_count": null,
   "id": "ac745a54",
   "metadata": {},
   "outputs": [],
   "source": [
    "# 집합 안에는 중복된 데이터를 가질 수 없으므로 add(1)를 해서 원소 1을 추가를 해도 별 다를 바가 없다.\n",
    "s.add(1)\n",
    "print(s)"
   ]
  },
  {
   "cell_type": "code",
   "execution_count": null,
   "id": "7160944b",
   "metadata": {},
   "outputs": [],
   "source": [
    "# 집합의 항목을 삭제할려면\n",
    "s.discard(1)\n",
    "print(s)"
   ]
  },
  {
   "cell_type": "code",
   "execution_count": null,
   "id": "7a6cd741",
   "metadata": {},
   "outputs": [],
   "source": [
    "# 집합의 항목을 삭제할려면2\n",
    "s.remove(10)\n",
    "print(s)"
   ]
  },
  {
   "cell_type": "code",
   "execution_count": null,
   "id": "8faad63d",
   "metadata": {},
   "outputs": [],
   "source": [
    "# remove 와 discard의 차이는 뭘까요?\n",
    "s.remove(1) # <- s변수에 1이 없어서 오류가 남\n",
    "s.discard(1) # <- s 변수에 1이 없는데도 오류가 안남"
   ]
  },
  {
   "cell_type": "code",
   "execution_count": null,
   "id": "481ea7bc",
   "metadata": {},
   "outputs": [
    {
     "name": "stdout",
     "output_type": "stream",
     "text": [
      "{100, 5}\n"
     ]
    }
   ],
   "source": [
    "# 전체 항목을 삭제하고 싶어요\n",
    "s.clear()\n",
    "print(s)"
   ]
  },
  {
   "cell_type": "markdown",
   "id": "843f2c16",
   "metadata": {},
   "source": [
    "# LAB"
   ]
  },
  {
   "cell_type": "markdown",
   "id": "d0bdc4a0",
   "metadata": {},
   "source": [
    "## 멘델의 유전 법칙 시뮬레이션\n",
    "부모의 생김새가 자식에게 어떻게 전해지는지 알아보는 실험. 둥근 완두콩과 주름진 완두콩을 교배해 자식 완두콩의 모양을 확인.  \n",
    "엄마와 아빠 완두콩에게는 각각 `R` 또는 `r` 유전자가 있으며, 이 두 유전자가 합쳐져 자식 완두콩의 모양이 결정됨.\n",
    "\n",
    "- **`R` 유전자**: 둥근 완두콩을 만드는 유전자 (우성)  \n",
    "- **`r` 유전자**: 주름진 완두콩을 만드는 유전자 (열성)  \n",
    "\n",
    "랜덤으로 유전자를 생성해 후손의 유전자 조합을 만들고, 각 조합의 개수를 세어 비율을 계산.  \n",
    "- **유전자 조합**  \n",
    "    - `RR`: 둥근 완두콩  \n",
    "    - `Rr` 또는 `rR`: 둥근 완두콩  \n",
    "    - `rr`: 주름진 완두콩  \n",
    "- **비율 계산**  \n",
    "    - 둥근 완두콩 (`RR`, `Rr`, `rR`) 대 주름진 완두콩 (`rr`)의 비율을 계산.  \n",
    "`r`만 두 개 있으면 완두콩은 주름짐."
   ]
  },
  {
   "cell_type": "code",
   "execution_count": 5,
   "id": "408d52dd",
   "metadata": {},
   "outputs": [
    {
     "name": "stdout",
     "output_type": "stream",
     "text": [
      "{'rr': 29, 'Rr': 23, 'rR': 23, 'RR': 25}\n",
      "2.4482758620689653 : 1\n"
     ]
    }
   ],
   "source": [
    "# 랜덤으로 후손의 유전자를 생성하는 실험\n",
    "import random\n",
    "\n",
    "descendent = []  # 후손의 유전자 정보를 담는 리스트\n",
    "\n",
    "# 후손의 유전자를 생성하는 함수\n",
    "def make_descendent():\n",
    "    # 0 = R, 1 = r 이다.\n",
    "    h1 = random.randrange(0, 2)  # 첫 번째 유전자 (0[R] 또는 1[r])\n",
    "    h2 = random.randrange(0, 2)  # 두 번째 유전자 (0[R] 또는 1[r])\n",
    "    \n",
    "    # 두 유전자를 합쳐서 후손의 유전자 조합 생성\n",
    "    if h1 == 0 and h2 == 0:\n",
    "        h = 'RR'\n",
    "    elif h1 == 0 and h2 == 1:\n",
    "        h = 'Rr'\n",
    "    elif h1 == 1 and h2 == 0:\n",
    "        h = 'rR'\n",
    "    else:\n",
    "        h = 'rr'\n",
    "\n",
    "    descendent.append(h)  # 생성된 유전자를 리스트에 추가\n",
    "\n",
    "# 후손들의 유전자 개수를 세는 함수\n",
    "# d 라는 인자는 descendent 리스트를 정보를 받는 함수야.  \n",
    "def count_descendent(d): \n",
    "    # d에 있는 첫번 째 유전자 정보가 'RR'\n",
    "    d_dict = {}  # 유전자 개수를 담는 딕셔너리\n",
    "    for n in d:\n",
    "        # d에 있는 두번 째 유전자 정보도 'RR'\n",
    "        if n in d_dict: # \n",
    "            d_dict[n] += 1\n",
    "        else:\n",
    "            d_dict[n] = 1 # d_dict['RR'] = 1 \n",
    "    print(d_dict)  # 유전자 개수 출력\n",
    "    cal_rate(d_dict)  # 비율 계산\n",
    "\n",
    "# 유전자 비율을 계산하는 함수\n",
    "# d는 앞서 유전자 개수를 딕셔너리로 담았잖아 이 딕셔너리를 받을 인수야\n",
    "def cal_rate(d):\n",
    "    # 주름진 완두콩 비율을 1로 두기 위해 둥근 완두콩의 개수를 총 더하고 그걸 주름진 완두콩으로 나눈다\n",
    "    rate = (d['RR'] + d['Rr'] + d['rR']) / d['rr']  # 비율 계산\n",
    "    print(rate, \": 1\")  # 둥근 완두콩 대 주름진 완두콩 비율 출력\n",
    "\n",
    "# 100번 후손 생성\n",
    "for n in range(100):\n",
    "    make_descendent()\n",
    "\n",
    "# 생성된 후손들의 유전자 개수 세기\n",
    "count_descendent(descendent)\n"
   ]
  },
  {
   "cell_type": "markdown",
   "id": "425cc9fe",
   "metadata": {},
   "source": [
    "## 튜링상 수상자 데이터 분석\n",
    "- **튜링상**: 컴퓨터 과학의 노벨상으로 불리며, 매년 컴퓨터 과학 분야에 큰 업적을 남긴 사람에게 시상.\n",
    "- **목표**: 역대 튜링상 수상자들의 명단, 수상년도, 국적을 정리하는 프로그램 작성."
   ]
  },
  {
   "cell_type": "code",
   "execution_count": null,
   "id": "69d7a55f",
   "metadata": {},
   "outputs": [
    {
     "name": "stdout",
     "output_type": "stream",
     "text": [
      "{'이름': '팀 버너스리', '수상년도': 2016, '국적': '영국', '대표업적': '월드 와이드 웹의 하이퍼텍스트 시스템을 고안하여 개발'}\n",
      "{'이름': '리처드 해밍', '수상년도': 1968, '국적': '미국', '대표업적': '오류 검출 부호 및 오류 정정 부호'}\n",
      "{'이름': '에츠허르 데이크스트라', '수상년도': 1972, '국적': '네덜란드', '대표업적': '프로그래밍 언어 연구, 데이크스트라 알고리즘'}\n",
      "{'이름': '더글러스 엥겔바트', '수상년도': 1997, '국적': '미국', '대표업적': '마우스의 발명, 대화형 컴퓨팅'}\n",
      "{'이름': '리처드 해밍', '수상년도': 1983, '국적': '미국', '대표업적': '유닉스 운영 체제 개발, C언어 개발'}\n",
      "==수상자 명단==\n",
      "팀 버너스리\n",
      "리처드 해밍\n",
      "에츠허르 데이크스트라\n",
      "더글러스 엥겔바트\n",
      "리처드 해밍\n",
      "\n",
      "==수상자 명단과 수상년도==\n",
      "리처드 해밍 1968\n",
      "에츠허르 데이크스트라 1972\n",
      "리처드 해밍 1983\n",
      "\n",
      "==수상자 국가==\n",
      "{'미국', '네덜란드', '영국'}\n"
     ]
    }
   ],
   "source": [
    "# 역대 수상자들의 정보를 담는 리스트\n",
    "awards = []\n",
    "# 역대 수상자들의 정보를 딕셔너리 형태로 리스트에 추가\n",
    "awards.append({\"이름\" : \"팀 버너스리\", \"수상년도\" : 2016, \"국적\" : \"영국\", \"대표업적\" : \"월드 와이드 웹의 하이퍼텍스트 시스템을 고안하여 개발\"})\n",
    "awards.append({\"이름\" : \"리처드 해밍\", \"수상년도\" : 1968, \"국적\" : \"미국\", \"대표업적\" : \"오류 검출 부호 및 오류 정정 부호\"})\n",
    "awards.append({\"이름\" : \"에츠허르 데이크스트라\", \"수상년도\" : 1972, \"국적\" : \"네덜란드\", \"대표업적\" : \"프로그래밍 언어 연구, 데이크스트라 알고리즘\"})\n",
    "awards.append({\"이름\" : \"더글러스 엥겔바트\", \"수상년도\" : 1997, \"국적\" : \"미국\", \"대표업적\" : \"마우스의 발명, 대화형 컴퓨팅\"})\n",
    "awards.append({\"이름\" : \"리처드 해밍\", \"수상년도\" : 1983, \"국적\" : \"미국\", \"대표업적\" : \"유닉스 운영 체제 개발, C언어 개발\"})\n",
    "\n",
    "# 역대 수상자들의 정보들을 출력\n",
    "for award in awards :\n",
    "    print(award)\n",
    "\n",
    "# 역대 수상자들의 이름을 출력\n",
    "print(\"==수상자 명단==\")\n",
    "for award in awards :\n",
    "    print(award['이름'])\n",
    "\n",
    "print()\n",
    "# 수상년도가 1990년대 이전 수상자들의 이름과 수상년도를 출력\n",
    "print(\"==수상자 명단과 수상년도==\")\n",
    "for award in awards :\n",
    "    if award['수상년도'] <= 1990 :\n",
    "        print(award['이름'], award['수상년도'])\n",
    "print()\n",
    "# 수상자들의 국가들을 출력, 이 때 set() 자료형을 이용해서 중복을 없앰 따라서 set() 자료형이 아니라면  미국인이 3명이라 '미국' 국적이 3개 출력되어야 하는데 set() 자료형 때문에 하나만 출력됨.\n",
    "print(\"==수상자 국가==\")\n",
    "nationaliy = set()\n",
    "for award in awards :\n",
    "    nationaliy.add(award['국적'])\n",
    "\n",
    "print(nationaliy)"
   ]
  }
 ],
 "metadata": {
  "kernelspec": {
   "display_name": "3.11.11",
   "language": "python",
   "name": "python3"
  },
  "language_info": {
   "codemirror_mode": {
    "name": "ipython",
    "version": 3
   },
   "file_extension": ".py",
   "mimetype": "text/x-python",
   "name": "python",
   "nbconvert_exporter": "python",
   "pygments_lexer": "ipython3",
   "version": "3.11.11"
  }
 },
 "nbformat": 4,
 "nbformat_minor": 5
}
