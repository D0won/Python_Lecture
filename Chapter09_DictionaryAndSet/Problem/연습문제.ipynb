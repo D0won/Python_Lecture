{
 "cells": [
  {
   "cell_type": "code",
   "execution_count": 1,
   "id": "25ef0470",
   "metadata": {},
   "outputs": [],
   "source": [
    "# 1번 문제\n",
    "\n",
    "# 전화번호부(딕셔너리)\n",
    "contacts = {}\n",
    "\n",
    "# 전화번호부 작성하기\n",
    "while True :\n",
    "    # 이름 작성\n",
    "    name = input(\"(입력모드)이름을 입력하시오: \")\n",
    "    # 만약에 이름에 아무것도 적지 않았다면 반복문 종료\n",
    "    if not name :\n",
    "        break\n",
    "    # 전화번호 작성\n",
    "    tel = input(\"전화번호를 입력하시오:\")\n",
    "    # 전화번호부에 저장하기\n",
    "    contacts[name] = tel\n",
    "\n",
    "# 전화번호부에 이름 찾기\n",
    "while True :\n",
    "    # 이름 입력하기\n",
    "    search = input(\"(검색모드)이름을 입력하시오:\")\n",
    "    # 만약에 이름을 입력하지 않으면 프로그램 종료\n",
    "    if not search :\n",
    "        break\n",
    "    # 해당 이름이 전화번호부에 있는지 확인\n",
    "    if search in contacts.keys() :\n",
    "        # 있다면 해당 이름의 전화번호 출력\n",
    "        print(f\"{search} 의 전화번호는 {contacts[search]} 입니다.\")\n",
    "    else :\n",
    "        # 없다면 찾을 수 없다고 출력하기\n",
    "        print(f\"{search}의 전화번호를 찾을 수 없습니다.\")"
   ]
  },
  {
   "cell_type": "code",
   "execution_count": 2,
   "id": "360e0cc5",
   "metadata": {},
   "outputs": [
    {
     "name": "stdout",
     "output_type": "stream",
     "text": [
      "kr :  대한민국\n",
      "sk :  슬로바키아\n",
      "no :  노르웨이\n"
     ]
    }
   ],
   "source": [
    "# 2번 문제\n",
    "domains = {\"kr\" : \"대한민국\", \"sk\" : \"슬로바키아\", \"no\" : \"노르웨이\"}\n",
    "\n",
    "for k, v in domains.items() :\n",
    "    print(k, \": \", v)"
   ]
  },
  {
   "cell_type": "code",
   "execution_count": null,
   "id": "d9018b65",
   "metadata": {},
   "outputs": [
    {
     "name": "stdout",
     "output_type": "stream",
     "text": [
      "다음은 어떤 단어에 대한 설명일까요?\n",
      "\"최근에 가장 떠오르는 프로그래밍 언어\"\n",
      "(1)파이썬 (2)함수 (3)리스트 (4)변수\n",
      "정답입니다!\n",
      "다음은 어떤 단어에 대한 설명일까요?\n",
      "\"데이터를 저장하는 메모리 공간\"\n",
      "(1)파이썬 (2)함수 (3)리스트 (4)변수\n",
      "정답입니다!\n",
      "다음은 어떤 단어에 대한 설명일까요?\n",
      "\"작업을 수행하는 문장들의 집합에 이름을 붙인 것\"\n",
      "(1)파이썬 (2)함수 (3)리스트 (4)변수\n",
      "정답입니다!\n",
      "다음은 어떤 단어에 대한 설명일까요?\n",
      "\"서로 관련이 없는 항목들의 모임\"\n",
      "(1)파이썬 (2)함수 (3)리스트 (4)변수\n",
      "오답입니다.!\n"
     ]
    }
   ],
   "source": [
    "# 3번 문제\n",
    "problems = {'파이썬' : '최근에 가장 떠오르는 프로그래밍 언어',\n",
    "            '변수' : '데이터를 저장하는 메모리 공간',\n",
    "            '함수' : '작업을 수행하는 문장들의 집합에 이름을 붙인 것',\n",
    "            '리스트' : '서로 관련이 없는 항목들의 모임'\n",
    "            }\n",
    "\n",
    "for word in problems.keys() :\n",
    "    print(\"다음은 어떤 단어에 대한 설명일까요?\")\n",
    "    print(f\"\\\"{problems[word]}\\\"\")\n",
    "    print(\"(1)파이썬 (2)함수 (3)리스트 (4)변수\")\n",
    "    w = input()\n",
    "    if w == word :\n",
    "        print(\"정답입니다!\")\n",
    "    else :\n",
    "        print(\"오답입니다!\")\n"
   ]
  }
 ],
 "metadata": {
  "kernelspec": {
   "display_name": "3.11.11",
   "language": "python",
   "name": "python3"
  },
  "language_info": {
   "codemirror_mode": {
    "name": "ipython",
    "version": 3
   },
   "file_extension": ".py",
   "mimetype": "text/x-python",
   "name": "python",
   "nbconvert_exporter": "python",
   "pygments_lexer": "ipython3",
   "version": "3.11.11"
  }
 },
 "nbformat": 4,
 "nbformat_minor": 5
}
